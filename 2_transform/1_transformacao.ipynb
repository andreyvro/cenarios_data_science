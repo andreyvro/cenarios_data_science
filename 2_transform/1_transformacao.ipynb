{
 "cells": [
  {
   "cell_type": "code",
   "execution_count": 1,
   "metadata": {},
   "outputs": [],
   "source": [
    "import pandas as pd\n",
    "pd.set_option('display.max_colwidth', None)"
   ]
  },
  {
   "cell_type": "markdown",
   "metadata": {},
   "source": [
    "### Cenário II\n",
    "\n",
    "O segundo entregável consiste na transformação de dados disponíveis em arquivo Json para o formato de dataframe, algo comum no dia a dia da empresa. Após transformar esse Json em dataframe é possível perceber que a coluna \"item_list\" está como dicionário. Seu gestor pediu dois pontos de atenção nessa tarefa:\n",
    "\n",
    "Expandir a coluna num mesmo dataframe;\n",
    "Normalizar os itens dessa coluna de dicionário e dividí-los em dois dataframes separados, seguindo o modelo relacional."
   ]
  },
  {
   "cell_type": "code",
   "execution_count": 2,
   "metadata": {},
   "outputs": [
    {
     "name": "stdout",
     "output_type": "stream",
     "text": [
      "Shape: (3, 6)\n"
     ]
    }
   ],
   "source": [
    "df = pd.read_json('dados/data.json')\n",
    "print('Shape:', df.shape)"
   ]
  },
  {
   "cell_type": "code",
   "execution_count": 3,
   "metadata": {},
   "outputs": [
    {
     "data": {
      "text/html": [
       "<div>\n",
       "<style scoped>\n",
       "    .dataframe tbody tr th:only-of-type {\n",
       "        vertical-align: middle;\n",
       "    }\n",
       "\n",
       "    .dataframe tbody tr th {\n",
       "        vertical-align: top;\n",
       "    }\n",
       "\n",
       "    .dataframe thead th {\n",
       "        text-align: right;\n",
       "    }\n",
       "</style>\n",
       "<table border=\"1\" class=\"dataframe\">\n",
       "  <thead>\n",
       "    <tr style=\"text-align: right;\">\n",
       "      <th></th>\n",
       "      <th>CreateDate</th>\n",
       "      <th>EmissionDate</th>\n",
       "      <th>Discount</th>\n",
       "      <th>NFeNumber</th>\n",
       "      <th>NFeID</th>\n",
       "      <th>ItemList</th>\n",
       "    </tr>\n",
       "  </thead>\n",
       "  <tbody>\n",
       "    <tr>\n",
       "      <th>0</th>\n",
       "      <td>2021-05-24T20:21:34.79</td>\n",
       "      <td>2021-05-24T00:00:00</td>\n",
       "      <td>0</td>\n",
       "      <td>501</td>\n",
       "      <td>1</td>\n",
       "      <td>[{'ProductName': 'Rice', 'Value': 35.55, 'Quantity': 2}, {'ProductName': 'Flour', 'Value': 11.55, 'Quantity': 5}, {'ProductName': 'Bean', 'Value': 27.15, 'Quantity': 7}]</td>\n",
       "    </tr>\n",
       "    <tr>\n",
       "      <th>1</th>\n",
       "      <td>2021-05-24T20:21:34.79</td>\n",
       "      <td>2021-05-24T00:00:00</td>\n",
       "      <td>0</td>\n",
       "      <td>502</td>\n",
       "      <td>2</td>\n",
       "      <td>[{'ProductName': 'Tomate', 'Value': 12.25, 'Quantity': 10}, {'ProductName': 'Pasta', 'Value': 7.55, 'Quantity': 5}]</td>\n",
       "    </tr>\n",
       "    <tr>\n",
       "      <th>2</th>\n",
       "      <td>2021-05-24T20:21:34.79</td>\n",
       "      <td>2021-05-24T00:00:00</td>\n",
       "      <td>0</td>\n",
       "      <td>503</td>\n",
       "      <td>3</td>\n",
       "      <td>[{'ProductName': 'Beer', 'Value': 9.0, 'Quantity': 6}, {'ProductName': 'French fries', 'Value': 10.99, 'Quantity': 2}, {'ProductName': 'Ice cream', 'Value': 27.15, 'Quantity': 1}]</td>\n",
       "    </tr>\n",
       "  </tbody>\n",
       "</table>\n",
       "</div>"
      ],
      "text/plain": [
       "               CreateDate         EmissionDate  Discount  NFeNumber  NFeID  \\\n",
       "0  2021-05-24T20:21:34.79  2021-05-24T00:00:00         0        501      1   \n",
       "1  2021-05-24T20:21:34.79  2021-05-24T00:00:00         0        502      2   \n",
       "2  2021-05-24T20:21:34.79  2021-05-24T00:00:00         0        503      3   \n",
       "\n",
       "                                                                                                                                                                              ItemList  \n",
       "0            [{'ProductName': 'Rice', 'Value': 35.55, 'Quantity': 2}, {'ProductName': 'Flour', 'Value': 11.55, 'Quantity': 5}, {'ProductName': 'Bean', 'Value': 27.15, 'Quantity': 7}]  \n",
       "1                                                                  [{'ProductName': 'Tomate', 'Value': 12.25, 'Quantity': 10}, {'ProductName': 'Pasta', 'Value': 7.55, 'Quantity': 5}]  \n",
       "2  [{'ProductName': 'Beer', 'Value': 9.0, 'Quantity': 6}, {'ProductName': 'French fries', 'Value': 10.99, 'Quantity': 2}, {'ProductName': 'Ice cream', 'Value': 27.15, 'Quantity': 1}]  "
      ]
     },
     "execution_count": 3,
     "metadata": {},
     "output_type": "execute_result"
    }
   ],
   "source": [
    "df.head()"
   ]
  },
  {
   "cell_type": "markdown",
   "metadata": {},
   "source": [
    "### Expandir coluna no mesmo dataframe"
   ]
  },
  {
   "cell_type": "code",
   "execution_count": 4,
   "metadata": {},
   "outputs": [],
   "source": [
    "df = df.explode('ItemList').reset_index(drop=True)   # Cada item da lista vai para uma linha"
   ]
  },
  {
   "cell_type": "code",
   "execution_count": 5,
   "metadata": {},
   "outputs": [
    {
     "data": {
      "text/html": [
       "<div>\n",
       "<style scoped>\n",
       "    .dataframe tbody tr th:only-of-type {\n",
       "        vertical-align: middle;\n",
       "    }\n",
       "\n",
       "    .dataframe tbody tr th {\n",
       "        vertical-align: top;\n",
       "    }\n",
       "\n",
       "    .dataframe thead th {\n",
       "        text-align: right;\n",
       "    }\n",
       "</style>\n",
       "<table border=\"1\" class=\"dataframe\">\n",
       "  <thead>\n",
       "    <tr style=\"text-align: right;\">\n",
       "      <th></th>\n",
       "      <th>CreateDate</th>\n",
       "      <th>EmissionDate</th>\n",
       "      <th>Discount</th>\n",
       "      <th>NFeNumber</th>\n",
       "      <th>NFeID</th>\n",
       "      <th>ItemList</th>\n",
       "    </tr>\n",
       "  </thead>\n",
       "  <tbody>\n",
       "    <tr>\n",
       "      <th>0</th>\n",
       "      <td>2021-05-24T20:21:34.79</td>\n",
       "      <td>2021-05-24T00:00:00</td>\n",
       "      <td>0</td>\n",
       "      <td>501</td>\n",
       "      <td>1</td>\n",
       "      <td>{'ProductName': 'Rice', 'Value': 35.55, 'Quantity': 2}</td>\n",
       "    </tr>\n",
       "    <tr>\n",
       "      <th>1</th>\n",
       "      <td>2021-05-24T20:21:34.79</td>\n",
       "      <td>2021-05-24T00:00:00</td>\n",
       "      <td>0</td>\n",
       "      <td>501</td>\n",
       "      <td>1</td>\n",
       "      <td>{'ProductName': 'Flour', 'Value': 11.55, 'Quantity': 5}</td>\n",
       "    </tr>\n",
       "    <tr>\n",
       "      <th>2</th>\n",
       "      <td>2021-05-24T20:21:34.79</td>\n",
       "      <td>2021-05-24T00:00:00</td>\n",
       "      <td>0</td>\n",
       "      <td>501</td>\n",
       "      <td>1</td>\n",
       "      <td>{'ProductName': 'Bean', 'Value': 27.15, 'Quantity': 7}</td>\n",
       "    </tr>\n",
       "  </tbody>\n",
       "</table>\n",
       "</div>"
      ],
      "text/plain": [
       "               CreateDate         EmissionDate  Discount  NFeNumber  NFeID  \\\n",
       "0  2021-05-24T20:21:34.79  2021-05-24T00:00:00         0        501      1   \n",
       "1  2021-05-24T20:21:34.79  2021-05-24T00:00:00         0        501      1   \n",
       "2  2021-05-24T20:21:34.79  2021-05-24T00:00:00         0        501      1   \n",
       "\n",
       "                                                  ItemList  \n",
       "0   {'ProductName': 'Rice', 'Value': 35.55, 'Quantity': 2}  \n",
       "1  {'ProductName': 'Flour', 'Value': 11.55, 'Quantity': 5}  \n",
       "2   {'ProductName': 'Bean', 'Value': 27.15, 'Quantity': 7}  "
      ]
     },
     "execution_count": 5,
     "metadata": {},
     "output_type": "execute_result"
    }
   ],
   "source": [
    "df.head(3)"
   ]
  },
  {
   "cell_type": "markdown",
   "metadata": {},
   "source": [
    "### Normalizar itens"
   ]
  },
  {
   "cell_type": "code",
   "execution_count": 6,
   "metadata": {},
   "outputs": [],
   "source": [
    "df1 = pd.json_normalize(df['ItemList'])  # Cada item da lista vira uma coluna\n",
    "df = pd.concat([df, df1], axis=1)        # Adiciona colunas no dataframe original\n",
    "df = df.drop(columns=['ItemList'])       # Remove coluna ItemList"
   ]
  },
  {
   "cell_type": "code",
   "execution_count": 7,
   "metadata": {},
   "outputs": [
    {
     "data": {
      "text/html": [
       "<div>\n",
       "<style scoped>\n",
       "    .dataframe tbody tr th:only-of-type {\n",
       "        vertical-align: middle;\n",
       "    }\n",
       "\n",
       "    .dataframe tbody tr th {\n",
       "        vertical-align: top;\n",
       "    }\n",
       "\n",
       "    .dataframe thead th {\n",
       "        text-align: right;\n",
       "    }\n",
       "</style>\n",
       "<table border=\"1\" class=\"dataframe\">\n",
       "  <thead>\n",
       "    <tr style=\"text-align: right;\">\n",
       "      <th></th>\n",
       "      <th>CreateDate</th>\n",
       "      <th>EmissionDate</th>\n",
       "      <th>Discount</th>\n",
       "      <th>NFeNumber</th>\n",
       "      <th>NFeID</th>\n",
       "      <th>ProductName</th>\n",
       "      <th>Value</th>\n",
       "      <th>Quantity</th>\n",
       "    </tr>\n",
       "  </thead>\n",
       "  <tbody>\n",
       "    <tr>\n",
       "      <th>0</th>\n",
       "      <td>2021-05-24T20:21:34.79</td>\n",
       "      <td>2021-05-24T00:00:00</td>\n",
       "      <td>0</td>\n",
       "      <td>501</td>\n",
       "      <td>1</td>\n",
       "      <td>Rice</td>\n",
       "      <td>35.55</td>\n",
       "      <td>2</td>\n",
       "    </tr>\n",
       "    <tr>\n",
       "      <th>1</th>\n",
       "      <td>2021-05-24T20:21:34.79</td>\n",
       "      <td>2021-05-24T00:00:00</td>\n",
       "      <td>0</td>\n",
       "      <td>501</td>\n",
       "      <td>1</td>\n",
       "      <td>Flour</td>\n",
       "      <td>11.55</td>\n",
       "      <td>5</td>\n",
       "    </tr>\n",
       "    <tr>\n",
       "      <th>2</th>\n",
       "      <td>2021-05-24T20:21:34.79</td>\n",
       "      <td>2021-05-24T00:00:00</td>\n",
       "      <td>0</td>\n",
       "      <td>501</td>\n",
       "      <td>1</td>\n",
       "      <td>Bean</td>\n",
       "      <td>27.15</td>\n",
       "      <td>7</td>\n",
       "    </tr>\n",
       "  </tbody>\n",
       "</table>\n",
       "</div>"
      ],
      "text/plain": [
       "               CreateDate         EmissionDate  Discount  NFeNumber  NFeID  \\\n",
       "0  2021-05-24T20:21:34.79  2021-05-24T00:00:00         0        501      1   \n",
       "1  2021-05-24T20:21:34.79  2021-05-24T00:00:00         0        501      1   \n",
       "2  2021-05-24T20:21:34.79  2021-05-24T00:00:00         0        501      1   \n",
       "\n",
       "  ProductName  Value  Quantity  \n",
       "0        Rice  35.55         2  \n",
       "1       Flour  11.55         5  \n",
       "2        Bean  27.15         7  "
      ]
     },
     "execution_count": 7,
     "metadata": {},
     "output_type": "execute_result"
    }
   ],
   "source": [
    "df.head(3)"
   ]
  },
  {
   "cell_type": "markdown",
   "metadata": {},
   "source": [
    "### Dividir em dois dataframes (modelo relacional)"
   ]
  },
  {
   "cell_type": "code",
   "execution_count": 8,
   "metadata": {},
   "outputs": [],
   "source": [
    "# Utiliza \"NFeNumber\" e \"NFeID\" como chave composta\n",
    "df1 = df[['CreateDate', 'EmissionDate', 'Discount', 'NFeNumber', 'NFeID']].drop_duplicates(ignore_index=True)\n",
    "df2 = df[['NFeNumber', 'NFeID', 'ProductName', 'Value', 'Quantity']]"
   ]
  },
  {
   "cell_type": "code",
   "execution_count": 9,
   "metadata": {},
   "outputs": [
    {
     "data": {
      "text/html": [
       "<div>\n",
       "<style scoped>\n",
       "    .dataframe tbody tr th:only-of-type {\n",
       "        vertical-align: middle;\n",
       "    }\n",
       "\n",
       "    .dataframe tbody tr th {\n",
       "        vertical-align: top;\n",
       "    }\n",
       "\n",
       "    .dataframe thead th {\n",
       "        text-align: right;\n",
       "    }\n",
       "</style>\n",
       "<table border=\"1\" class=\"dataframe\">\n",
       "  <thead>\n",
       "    <tr style=\"text-align: right;\">\n",
       "      <th></th>\n",
       "      <th>CreateDate</th>\n",
       "      <th>EmissionDate</th>\n",
       "      <th>Discount</th>\n",
       "      <th>NFeNumber</th>\n",
       "      <th>NFeID</th>\n",
       "    </tr>\n",
       "  </thead>\n",
       "  <tbody>\n",
       "    <tr>\n",
       "      <th>0</th>\n",
       "      <td>2021-05-24T20:21:34.79</td>\n",
       "      <td>2021-05-24T00:00:00</td>\n",
       "      <td>0</td>\n",
       "      <td>501</td>\n",
       "      <td>1</td>\n",
       "    </tr>\n",
       "    <tr>\n",
       "      <th>1</th>\n",
       "      <td>2021-05-24T20:21:34.79</td>\n",
       "      <td>2021-05-24T00:00:00</td>\n",
       "      <td>0</td>\n",
       "      <td>502</td>\n",
       "      <td>2</td>\n",
       "    </tr>\n",
       "    <tr>\n",
       "      <th>2</th>\n",
       "      <td>2021-05-24T20:21:34.79</td>\n",
       "      <td>2021-05-24T00:00:00</td>\n",
       "      <td>0</td>\n",
       "      <td>503</td>\n",
       "      <td>3</td>\n",
       "    </tr>\n",
       "  </tbody>\n",
       "</table>\n",
       "</div>"
      ],
      "text/plain": [
       "               CreateDate         EmissionDate  Discount  NFeNumber  NFeID\n",
       "0  2021-05-24T20:21:34.79  2021-05-24T00:00:00         0        501      1\n",
       "1  2021-05-24T20:21:34.79  2021-05-24T00:00:00         0        502      2\n",
       "2  2021-05-24T20:21:34.79  2021-05-24T00:00:00         0        503      3"
      ]
     },
     "execution_count": 9,
     "metadata": {},
     "output_type": "execute_result"
    }
   ],
   "source": [
    "df1.head()"
   ]
  },
  {
   "cell_type": "code",
   "execution_count": 10,
   "metadata": {},
   "outputs": [
    {
     "data": {
      "text/html": [
       "<div>\n",
       "<style scoped>\n",
       "    .dataframe tbody tr th:only-of-type {\n",
       "        vertical-align: middle;\n",
       "    }\n",
       "\n",
       "    .dataframe tbody tr th {\n",
       "        vertical-align: top;\n",
       "    }\n",
       "\n",
       "    .dataframe thead th {\n",
       "        text-align: right;\n",
       "    }\n",
       "</style>\n",
       "<table border=\"1\" class=\"dataframe\">\n",
       "  <thead>\n",
       "    <tr style=\"text-align: right;\">\n",
       "      <th></th>\n",
       "      <th>NFeNumber</th>\n",
       "      <th>NFeID</th>\n",
       "      <th>ProductName</th>\n",
       "      <th>Value</th>\n",
       "      <th>Quantity</th>\n",
       "    </tr>\n",
       "  </thead>\n",
       "  <tbody>\n",
       "    <tr>\n",
       "      <th>0</th>\n",
       "      <td>501</td>\n",
       "      <td>1</td>\n",
       "      <td>Rice</td>\n",
       "      <td>35.55</td>\n",
       "      <td>2</td>\n",
       "    </tr>\n",
       "    <tr>\n",
       "      <th>1</th>\n",
       "      <td>501</td>\n",
       "      <td>1</td>\n",
       "      <td>Flour</td>\n",
       "      <td>11.55</td>\n",
       "      <td>5</td>\n",
       "    </tr>\n",
       "    <tr>\n",
       "      <th>2</th>\n",
       "      <td>501</td>\n",
       "      <td>1</td>\n",
       "      <td>Bean</td>\n",
       "      <td>27.15</td>\n",
       "      <td>7</td>\n",
       "    </tr>\n",
       "    <tr>\n",
       "      <th>3</th>\n",
       "      <td>502</td>\n",
       "      <td>2</td>\n",
       "      <td>Tomate</td>\n",
       "      <td>12.25</td>\n",
       "      <td>10</td>\n",
       "    </tr>\n",
       "    <tr>\n",
       "      <th>4</th>\n",
       "      <td>502</td>\n",
       "      <td>2</td>\n",
       "      <td>Pasta</td>\n",
       "      <td>7.55</td>\n",
       "      <td>5</td>\n",
       "    </tr>\n",
       "  </tbody>\n",
       "</table>\n",
       "</div>"
      ],
      "text/plain": [
       "   NFeNumber  NFeID ProductName  Value  Quantity\n",
       "0        501      1        Rice  35.55         2\n",
       "1        501      1       Flour  11.55         5\n",
       "2        501      1        Bean  27.15         7\n",
       "3        502      2      Tomate  12.25        10\n",
       "4        502      2       Pasta   7.55         5"
      ]
     },
     "execution_count": 10,
     "metadata": {},
     "output_type": "execute_result"
    }
   ],
   "source": [
    "df2.head()"
   ]
  },
  {
   "cell_type": "code",
   "execution_count": null,
   "metadata": {},
   "outputs": [],
   "source": []
  }
 ],
 "metadata": {
  "kernelspec": {
   "display_name": "Python 3.8.10 64-bit",
   "language": "python",
   "name": "python3"
  },
  "language_info": {
   "codemirror_mode": {
    "name": "ipython",
    "version": 3
   },
   "file_extension": ".py",
   "mimetype": "text/x-python",
   "name": "python",
   "nbconvert_exporter": "python",
   "pygments_lexer": "ipython3",
   "version": "3.8.10"
  },
  "orig_nbformat": 4,
  "vscode": {
   "interpreter": {
    "hash": "322e862dcaca256dd2b30064c3ca438d288301a757b0750aee79cafa4ceb6252"
   }
  }
 },
 "nbformat": 4,
 "nbformat_minor": 2
}
